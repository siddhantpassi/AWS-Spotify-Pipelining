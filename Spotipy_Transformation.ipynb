{
	"metadata": {
		"kernelspec": {
			"name": "glue_pyspark",
			"display_name": "Glue PySpark",
			"language": "python"
		},
		"language_info": {
			"name": "Python_Glue_Session",
			"mimetype": "text/x-python",
			"codemirror_mode": {
				"name": "python",
				"version": 3
			},
			"pygments_lexer": "python3",
			"file_extension": ".py"
		}
	},
	"nbformat_minor": 4,
	"nbformat": 4,
	"cells": [
		{
			"cell_type": "markdown",
			"source": "# AWS Glue Studio Notebook\n##### You are now running a AWS Glue Studio notebook; To start using your notebook you need to start an AWS Glue Interactive Session.\n",
			"metadata": {
				"editable": true,
				"trusted": true
			}
		},
		{
			"cell_type": "markdown",
			"source": "### Optional: Run this cell to see available notebook commands (\"magics\").\n",
			"metadata": {
				"editable": true,
				"trusted": true
			}
		},
		{
			"cell_type": "code",
			"source": "# %help",
			"metadata": {
				"trusted": true,
				"editable": true
			},
			"execution_count": 18,
			"outputs": []
		},
		{
			"cell_type": "markdown",
			"source": "####  Run this cell to set up and start your interactive session.\n",
			"metadata": {
				"editable": true,
				"trusted": true
			}
		},
		{
			"cell_type": "code",
			"source": "%idle_timeout 2880\n%glue_version 4.0\n%worker_type G.1X\n%number_of_workers 5\n\nimport sys\nfrom awsglue.transforms import *\nfrom awsglue.utils import getResolvedOptions\nfrom pyspark.context import SparkContext\nfrom awsglue.context import GlueContext\nfrom awsglue.job import Job\n\nsc = SparkContext.getOrCreate()\nglueContext = GlueContext(sc)\nspark = glueContext.spark_session\njob = Job(glueContext)\n\nfrom awsglue.dynamicframe import DynamicFrame\nfrom pyspark.sql.functions import explode, col\n\nfrom datetime import datetime",
			"metadata": {
				"trusted": true,
				"editable": true
			},
			"execution_count": 58,
			"outputs": [
				{
					"name": "stderr",
					"text": "You are already connected to a glueetl session e2aa1560-6c13-4c84-bfc2-973d27da9c92.\n\nNo change will be made to the current session that is set as glueetl. The session configuration change will apply to newly created sessions.\n",
					"output_type": "stream"
				},
				{
					"name": "stdout",
					"text": "Current idle_timeout is 2880 minutes.\nidle_timeout has been set to 2880 minutes.\n",
					"output_type": "stream"
				},
				{
					"name": "stderr",
					"text": "You are already connected to a glueetl session e2aa1560-6c13-4c84-bfc2-973d27da9c92.\n\nNo change will be made to the current session that is set as glueetl. The session configuration change will apply to newly created sessions.\n",
					"output_type": "stream"
				},
				{
					"name": "stdout",
					"text": "Setting Glue version to: 4.0\n",
					"output_type": "stream"
				},
				{
					"name": "stderr",
					"text": "You are already connected to a glueetl session e2aa1560-6c13-4c84-bfc2-973d27da9c92.\n\nNo change will be made to the current session that is set as glueetl. The session configuration change will apply to newly created sessions.\n",
					"output_type": "stream"
				},
				{
					"name": "stdout",
					"text": "Previous worker type: G.1X\nSetting new worker type to: G.1X\n",
					"output_type": "stream"
				},
				{
					"name": "stderr",
					"text": "You are already connected to a glueetl session e2aa1560-6c13-4c84-bfc2-973d27da9c92.\n\nNo change will be made to the current session that is set as glueetl. The session configuration change will apply to newly created sessions.\n",
					"output_type": "stream"
				},
				{
					"name": "stdout",
					"text": "Previous number of workers: 5\nSetting new number of workers to: 5\n\n",
					"output_type": "stream"
				}
			]
		},
		{
			"cell_type": "markdown",
			"source": "### Creating a dynamic frame using method\n",
			"metadata": {}
		},
		{
			"cell_type": "code",
			"source": "dyf = glueContext.create_dynamic_frame_from_options(\n  connection_type=\"s3\",\n  connection_options={\"paths\": [\"s3://s2passi-spotipy-project/raw-data/to-be-processed/\"],\n                      },\n  format=\"json\"\n)\n\ndf = dyf.toDF()",
			"metadata": {
				"trusted": true,
				"tags": []
			},
			"execution_count": 45,
			"outputs": [
				{
					"name": "stdout",
					"text": "\n",
					"output_type": "stream"
				}
			]
		},
		{
			"cell_type": "code",
			"source": "def process_albums(df):\n    df = df.withColumn(\"items\", explode(\"items\")).select(col(\"items.track.album.id\").alias(\"album_id\"),\n                                                col(\"items.track.album.name\").alias(\"album_name\"),\n                                                col(\"items.track.album.release_date\").alias(\"album_release_date\"),\n                                                col(\"items.track.album.total_tracks\").alias(\"album_total_tracks\"),\n                                                col(\"items.track.album.external_urls.spotify\").alias(\"album_url\"),\n                                                col(\"items.track.album.href\").alias(\"album_href\")).drop_duplicates(subset=[\"album_id\"])\n    return df\n\ndef process_artists(df):\n    df1 = df.withColumn(\"items\", explode(\"items\")).select(col(\"items.track.artists\").alias(\"artists\"))\n    df2 = df1.withColumn(\"artists\", explode(\"artists\")).select(col(\"artists.id\").alias(\"artist_id\"),\n                                                col(\"artists.name\").alias(\"artist_name\"),\n                                                col(\"artists.uri\").alias(\"artist_uri\"),\n                                                col(\"artists.external_urls.spotify\").alias(\"artist_spotify_url\"),\n                                                col(\"artists.href\").alias(\"artist_href\")).drop_duplicates(subset=[\"artist_id\"])\n    return df2\n\ndef process_tracks(df):\n    df1 = df.withColumn(\"items\", explode(\"items\")).select(col(\"items.track.id\").alias(\"track_id\"),\n                                                col(\"items.track.name\").alias(\"track_name\"),\n                                                col(\"items.track.popularity\").alias(\"track_popularity\"),\n                                                col(\"items.track.uri\").alias(\"track_uri\"),\n                                                col(\"items.track.duration_ms\").alias(\"track_duration_ms\"),\n                                                col(\"items.track.external_urls.spotify\").alias(\"track_url\"),\n                                                col(\"items.track.href\").alias(\"track_href\"))\n    return df1\n",
			"metadata": {
				"trusted": true,
				"tags": []
			},
			"execution_count": 54,
			"outputs": [
				{
					"name": "stdout",
					"text": "\n",
					"output_type": "stream"
				}
			]
		},
		{
			"cell_type": "code",
			"source": "def write_to_s3(df, path_suffix, format_type=\"csv\"):\n    dyf = DynamicFrame.fromDF(df, glueContext, \"dyf\")\n    glueContext.write_dynamic_frame.from_options(\n        frame=dyf,\n        connection_type=\"s3\",\n        connection_options={\"path\": f\"s3://s2passi-spotipy-project/transformed-data/{path_suffix}/\"},\n        format= format_type\n    )",
			"metadata": {
				"trusted": true,
				"tags": []
			},
			"execution_count": 60,
			"outputs": [
				{
					"name": "stdout",
					"text": "\n",
					"output_type": "stream"
				}
			]
		},
		{
			"cell_type": "code",
			"source": "write_to_s3(process_albums(df), \"album-data/album_transformed_{}\".format(datetime.now().strftime(\"%Y-%m-%d\")), \"csv\")",
			"metadata": {
				"trusted": true,
				"tags": []
			},
			"execution_count": 61,
			"outputs": [
				{
					"name": "stdout",
					"text": "\n",
					"output_type": "stream"
				}
			]
		}
	]
}