{
	"cells": [
		{
			"cell_type": "markdown",
			"metadata": {
				"editable": true,
				"trusted": true
			},
			"source": [
				"# AWS Glue Studio Notebook\n",
				"##### You are now running a AWS Glue Studio notebook; To start using your notebook you need to start an AWS Glue Interactive Session.\n"
			]
		},
		{
			"cell_type": "markdown",
			"metadata": {
				"editable": true,
				"trusted": true
			},
			"source": [
				"### Optional: Run this cell to see available notebook commands (\"magics\").\n"
			]
		},
		{
			"cell_type": "code",
			"execution_count": 18,
			"metadata": {
				"editable": true,
				"trusted": true,
				"vscode": {
					"languageId": "python_glue_session"
				}
			},
			"outputs": [],
			"source": [
				"# %help"
			]
		},
		{
			"cell_type": "markdown",
			"metadata": {
				"editable": true,
				"trusted": true
			},
			"source": [
				"####  Run this cell to set up and start your interactive session.\n"
			]
		},
		{
			"cell_type": "code",
			"execution_count": 58,
			"metadata": {
				"editable": true,
				"trusted": true,
				"vscode": {
					"languageId": "python_glue_session"
				}
			},
			"outputs": [
				{
					"name": "stderr",
					"output_type": "stream",
					"text": [
						"You are already connected to a glueetl session e2aa1560-6c13-4c84-bfc2-973d27da9c92.\n",
						"\n",
						"No change will be made to the current session that is set as glueetl. The session configuration change will apply to newly created sessions.\n"
					]
				},
				{
					"name": "stdout",
					"output_type": "stream",
					"text": [
						"Current idle_timeout is 2880 minutes.\n",
						"idle_timeout has been set to 2880 minutes.\n"
					]
				},
				{
					"name": "stderr",
					"output_type": "stream",
					"text": [
						"You are already connected to a glueetl session e2aa1560-6c13-4c84-bfc2-973d27da9c92.\n",
						"\n",
						"No change will be made to the current session that is set as glueetl. The session configuration change will apply to newly created sessions.\n"
					]
				},
				{
					"name": "stdout",
					"output_type": "stream",
					"text": [
						"Setting Glue version to: 4.0\n"
					]
				},
				{
					"name": "stderr",
					"output_type": "stream",
					"text": [
						"You are already connected to a glueetl session e2aa1560-6c13-4c84-bfc2-973d27da9c92.\n",
						"\n",
						"No change will be made to the current session that is set as glueetl. The session configuration change will apply to newly created sessions.\n"
					]
				},
				{
					"name": "stdout",
					"output_type": "stream",
					"text": [
						"Previous worker type: G.1X\n",
						"Setting new worker type to: G.1X\n"
					]
				},
				{
					"name": "stderr",
					"output_type": "stream",
					"text": [
						"You are already connected to a glueetl session e2aa1560-6c13-4c84-bfc2-973d27da9c92.\n",
						"\n",
						"No change will be made to the current session that is set as glueetl. The session configuration change will apply to newly created sessions.\n"
					]
				},
				{
					"name": "stdout",
					"output_type": "stream",
					"text": [
						"Previous number of workers: 5\n",
						"Setting new number of workers to: 5\n",
						"\n"
					]
				}
			],
			"source": [
				"%idle_timeout 2880\n",
				"%glue_version 4.0\n",
				"%worker_type G.1X\n",
				"%number_of_workers 5\n",
				"\n",
				"import sys\n",
				"from awsglue.transforms import *\n",
				"from awsglue.utils import getResolvedOptions\n",
				"from pyspark.context import SparkContext\n",
				"from awsglue.context import GlueContext\n",
				"from awsglue.job import Job\n",
				"\n",
				"sc = SparkContext.getOrCreate()\n",
				"glueContext = GlueContext(sc)\n",
				"spark = glueContext.spark_session\n",
				"job = Job(glueContext)\n",
				"\n",
				"from awsglue.dynamicframe import DynamicFrame\n",
				"from pyspark.sql.functions import explode, col\n",
				"\n",
				"from datetime import datetime"
			]
		},
		{
			"cell_type": "markdown",
			"metadata": {},
			"source": [
				"### Creating a dynamic frame using method\n"
			]
		},
		{
			"cell_type": "code",
			"execution_count": 45,
			"metadata": {
				"tags": [],
				"trusted": true,
				"vscode": {
					"languageId": "python_glue_session"
				}
			},
			"outputs": [
				{
					"name": "stdout",
					"output_type": "stream",
					"text": [
						"\n"
					]
				}
			],
			"source": [
				"dyf = glueContext.create_dynamic_frame_from_options(\n",
				"  connection_type=\"s3\",\n",
				"  connection_options={\"paths\": [\"s3://s2passi-spotipy-project/raw-data/to-be-processed/\"],\n",
				"                      },\n",
				"  format=\"json\"\n",
				")\n",
				"\n",
				"df = dyf.toDF()"
			]
		},
		{
			"cell_type": "code",
			"execution_count": 54,
			"metadata": {
				"tags": [],
				"trusted": true,
				"vscode": {
					"languageId": "python_glue_session"
				}
			},
			"outputs": [
				{
					"name": "stdout",
					"output_type": "stream",
					"text": [
						"\n"
					]
				}
			],
			"source": [
				"def process_albums(df):\n",
				"    df = df.withColumn(\"items\", explode(\"items\")).select(col(\"items.track.album.id\").alias(\"album_id\"),\n",
				"                                                col(\"items.track.album.name\").alias(\"album_name\"),\n",
				"                                                col(\"items.track.album.release_date\").alias(\"album_release_date\"),\n",
				"                                                col(\"items.track.album.total_tracks\").alias(\"album_total_tracks\"),\n",
				"                                                col(\"items.track.album.external_urls.spotify\").alias(\"album_url\"),\n",
				"                                                col(\"items.track.album.href\").alias(\"album_href\")).drop_duplicates(subset=[\"album_id\"])\n",
				"    return df\n",
				"\n",
				"def process_artists(df):\n",
				"    df1 = df.withColumn(\"items\", explode(\"items\")).select(col(\"items.track.artists\").alias(\"artists\"))\n",
				"    df2 = df1.withColumn(\"artists\", explode(\"artists\")).select(col(\"artists.id\").alias(\"artist_id\"),\n",
				"                                                col(\"artists.name\").alias(\"artist_name\"),\n",
				"                                                col(\"artists.uri\").alias(\"artist_uri\"),\n",
				"                                                col(\"artists.external_urls.spotify\").alias(\"artist_spotify_url\"),\n",
				"                                                col(\"artists.href\").alias(\"artist_href\")).drop_duplicates(subset=[\"artist_id\"])\n",
				"    return df2\n",
				"\n",
				"def process_tracks(df):\n",
				"    df1 = df.withColumn(\"items\", explode(\"items\")).select(col(\"items.track.id\").alias(\"track_id\"),\n",
				"                                                col(\"items.track.name\").alias(\"track_name\"),\n",
				"                                                col(\"items.track.popularity\").alias(\"track_popularity\"),\n",
				"                                                col(\"items.track.uri\").alias(\"track_uri\"),\n",
				"                                                col(\"items.track.duration_ms\").alias(\"track_duration_ms\"),\n",
				"                                                col(\"items.track.external_urls.spotify\").alias(\"track_url\"),\n",
				"                                                col(\"items.track.href\").alias(\"track_href\"))\n",
				"    return df1\n"
			]
		},
		{
			"cell_type": "code",
			"execution_count": 60,
			"metadata": {
				"tags": [],
				"trusted": true,
				"vscode": {
					"languageId": "python_glue_session"
				}
			},
			"outputs": [
				{
					"name": "stdout",
					"output_type": "stream",
					"text": [
						"\n"
					]
				}
			],
			"source": [
				"def write_to_s3(df, path_suffix, format_type=\"csv\"):\n",
				"    dyf = DynamicFrame.fromDF(df, glueContext, \"dyf\")\n",
				"    glueContext.write_dynamic_frame.from_options(\n",
				"        frame=dyf,\n",
				"        connection_type=\"s3\",\n",
				"        connection_options={\"path\": f\"s3://s2passi-spotipy-project/transformed-data/{path_suffix}/\"},\n",
				"        format= format_type\n",
				"    )"
			]
		},
		{
			"cell_type": "code",
			"execution_count": 61,
			"metadata": {
				"tags": [],
				"trusted": true,
				"vscode": {
					"languageId": "python_glue_session"
				}
			},
			"outputs": [
				{
					"name": "stdout",
					"output_type": "stream",
					"text": [
						"\n"
					]
				}
			],
			"source": [
				"write_to_s3(process_albums(df), \"album-data/album_transformed_{}\".format(datetime.now().strftime(\"%Y-%m-%d\")), \"csv\")\n",
				"write_to_s3(process_tracks(df), \"tracks-data/tracks_transformed_{}\".format(datetime.now().strftime(\"%Y-%m-%d\")), \"csv\")\n",
				"write_to_s3(process_artists(df), \"artists-data/artist_transformed_{}\".format(datetime.now().strftime(\"%Y-%m-%d\")), \"csv\")"
			]
		}
	],
	"metadata": {
		"kernelspec": {
			"display_name": "Glue PySpark",
			"language": "python",
			"name": "glue_pyspark"
		},
		"language_info": {
			"codemirror_mode": {
				"name": "python",
				"version": 3
			},
			"file_extension": ".py",
			"mimetype": "text/x-python",
			"name": "Python_Glue_Session",
			"pygments_lexer": "python3"
		}
	},
	"nbformat": 4,
	"nbformat_minor": 4
}
